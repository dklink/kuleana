{
 "cells": [
  {
   "cell_type": "code",
   "execution_count": null,
   "id": "71f2593d",
   "metadata": {},
   "outputs": [],
   "source": [
    "import geopandas as gpd\n",
    "import numpy as np\n",
    "import matplotlib.pyplot as plt\n",
    "import matplotlib.patches as mpatches\n",
    "from matplotlib.lines import Line2D\n",
    "import contextily as ctx\n",
    "import cpi\n",
    "import pandas as pd\n",
    "from datetime import date\n",
    "from shapely.geometry import Point"
   ]
  },
  {
   "cell_type": "code",
   "execution_count": null,
   "id": "3fa6c180",
   "metadata": {},
   "outputs": [],
   "source": [
    "cpi.update()\n",
    "%matplotlib notebook"
   ]
  },
  {
   "cell_type": "markdown",
   "id": "5bf5b2d2",
   "metadata": {},
   "source": [
    "# Analysis 1: Kalihiwai vicinity prop values"
   ]
  },
  {
   "cell_type": "code",
   "execution_count": null,
   "id": "b3bc0c4b",
   "metadata": {},
   "outputs": [],
   "source": [
    "huliaina = gpd.read_file(\"./huliaina (2).zip\", crs=\"EPSG:26904\").to_crs(\"EPSG:4326\")\n",
    "corelogic = gpd.read_file(\"./corelogic_with_tmk.csv\")"
   ]
  },
  {
   "cell_type": "code",
   "execution_count": null,
   "id": "fe2a9bc8",
   "metadata": {},
   "outputs": [],
   "source": [
    "# grab the properties under 5 acres\n",
    "maxacres = 5\n",
    "small = huliaina[huliaina[\"TAXACRES\"] < maxacres]\n",
    "\n",
    "# set up years of interest\n",
    "years = sorted([\n",
    "    '2016', '2015', '2014', '2013', '2012', '2011', '2010', '2005', '1990',\n",
    "    '1985', '1980', '1975', '1970', '1965',\n",
    "])\n",
    "\n",
    "# adjust for inflation\n",
    "inflated = small.copy(deep=True)[years + [\"geometry\"]]\n",
    "inflation_base = date(2018, 1, 1)\n",
    "for year in years:\n",
    "    inflated[year] = inflated[year].apply(lambda x: cpi.inflate(x, date(int(year), 1, 1), to=inflation_base))\n",
    "\n",
    "# calculate the mean property value for each year (for properties with data)\n",
    "mean_value = []\n",
    "for year in years:\n",
    "    mean_value.append(inflated[year][inflated[year] != 0].mean())"
   ]
  },
  {
   "cell_type": "code",
   "execution_count": null,
   "id": "5fb8cadf",
   "metadata": {},
   "outputs": [],
   "source": [
    "corelogic[\"geometry\"] = [Point(float(lon), float(lat)) for lon, lat in zip(corelogic.PARCEL_LON, corelogic.PARCEL_LAT)]\n",
    "corelogic[\"MARKET_TOTAL_VALUE\"][corelogic[\"MARKET_TOTAL_VALUE\"] == \"\"] = \"nan\"\n",
    "corelogic[\"MARKET_TOTAL_VALUE\"] = corelogic[\"MARKET_TOTAL_VALUE\"].astype(float)"
   ]
  },
  {
   "cell_type": "code",
   "execution_count": null,
   "id": "cfe85486",
   "metadata": {},
   "outputs": [],
   "source": [
    "matching_corelogic = pd.concat([corelogic[corelogic.within(parcel)] for parcel in inflated.geometry])"
   ]
  },
  {
   "cell_type": "code",
   "execution_count": null,
   "id": "d75a8255",
   "metadata": {},
   "outputs": [],
   "source": [
    "corelogic_2019_mean = cpi.inflate(matching_corelogic.MARKET_TOTAL_VALUE.mean(), date(2019, 1, 1), to=inflation_base)"
   ]
  },
  {
   "cell_type": "code",
   "execution_count": null,
   "id": "c28a0a0d",
   "metadata": {
    "scrolled": false
   },
   "outputs": [],
   "source": [
    "# this plots the huliaina parcels within a basemap\n",
    "%matplotlib inline\n",
    "fig, (ax2, ax1) = plt.subplots(1, 2, figsize=(14, 7))\n",
    "inflated.plot(ax=ax1, color=\"red\", alpha=.5)\n",
    "ax1.set_xlim([-159.5, -159.38])\n",
    "ax1.set_ylim([22.15, 22.25])\n",
    "ctx.add_basemap(ax1, crs = huliaina.crs, url = ctx.providers.OpenTopoMap.url)\n",
    "#points = matching_corelogic.plot(ax=ax1, color=\"tab:blue\", markersize=5, alpha=.5)\n",
    "LegendElement = [\n",
    "    mpatches.Patch(color='red', label='Parcel Locations', alpha=.5),\n",
    "    #Line2D([0], [0], marker='o', color='w', label='Matching Corelogic Parcels',\n",
    "    #                    markerfacecolor='tab:blue', markersize=5)\n",
    "]\n",
    "ax1.legend(handles = LegendElement, loc='upper right', framealpha=1)\n",
    "ax1.set_xticks([])\n",
    "ax1.set_yticks([])\n",
    "\n",
    "x = [int(y) for y in years]\n",
    "ax2.plot(x, np.array(mean_value)/1e6, \"red\", label=\"Kaua'i County Tax Office Data\")\n",
    "ax2.plot(2019, corelogic_2019_mean/1e6, '.', label=\"Corelogic Data on Same Parcels\")\n",
    "ax2.set_ylabel(f\"mean parcel market value (millions), {inflation_base.year} equivalent USD\")\n",
    "ax2.set_title(f\"Values of sub-{maxacres} acre parcels between Princeville and Kilauea\")\n",
    "ax2.legend()\n",
    "plt.tight_layout()\n",
    "plt.savefig(\"/Users/dklink/Desktop/property_values.png\", dpi=200)"
   ]
  },
  {
   "cell_type": "markdown",
   "id": "46d008a2",
   "metadata": {},
   "source": [
    "# Analysis 2: Map of NS Mailing Zip Codes"
   ]
  },
  {
   "cell_type": "code",
   "execution_count": null,
   "id": "637c60e2",
   "metadata": {},
   "outputs": [],
   "source": [
    "import pgeocode\n",
    "nomi = pgeocode.Nominatim('us')"
   ]
  },
  {
   "cell_type": "code",
   "execution_count": null,
   "id": "811e7432",
   "metadata": {},
   "outputs": [],
   "source": [
    "NS_zips = [96722, 96754]\n",
    "owners = pd.read_csv(\"./KauaiCountyHI-20211202-PropertyOwnerMaster.csv\")\n",
    "owners = owners[owners.Zip.isin(NS_zips)]"
   ]
  },
  {
   "cell_type": "code",
   "execution_count": null,
   "id": "fc3a31b3",
   "metadata": {},
   "outputs": [],
   "source": [
    "mainland_owners = owners[owners.OwnerState != \"HI\"]\n",
    "locations = nomi.query_postal_code(owners[\"OwnerZip\"].values).dropna(subset=[\"latitude\", \"longitude\"])\n",
    "mainland_locations = nomi.query_postal_code(mainland_owners[\"OwnerZip\"].values).dropna(subset=[\"latitude\", \"longitude\"])"
   ]
  },
  {
   "cell_type": "code",
   "execution_count": null,
   "id": "004904e9",
   "metadata": {},
   "outputs": [],
   "source": [
    "US = gpd.read_file(\"./cb_2018_us_state_500k.zip\")"
   ]
  },
  {
   "cell_type": "code",
   "execution_count": null,
   "id": "13ce19e8",
   "metadata": {},
   "outputs": [],
   "source": [
    "counts = mainland_locations.groupby(\"postal_code\").count()\n",
    "sizes = counts.loc[mainland_locations.postal_code][\"longitude\"].values / 10\n",
    "fig, ax = plt.subplots(figsize=(7, 7))\n",
    "US.plot(ax=ax)\n",
    "ax.set_xlim([-129, -65])\n",
    "ax.set_ylim([23, 51])\n",
    "ax.scatter(mainland_locations.longitude, mainland_locations.latitude, s=sizes, color=\"r\")\n",
    "ax.set_title(f\"{len(mainland_locations)/len(locations): .0%} of North Shore Kaua'i mailing addresses are in the mainland\")\n",
    "ax.set_xticks([])\n",
    "ax.set_yticks([])\n",
    "plt.savefig(\"/Users/dklink/Desktop/continental_US_mailing_addresses.png\", dpi=200)"
   ]
  },
  {
   "cell_type": "code",
   "execution_count": null,
   "id": "cc3f0118",
   "metadata": {
    "scrolled": false
   },
   "outputs": [],
   "source": [
    "ca_locations = mainland_locations[mainland_locations[\"state_code\"] == \"CA\"]\n",
    "counts = ca_locations.groupby(\"postal_code\").count()\n",
    "sizes = counts.loc[ca_locations.postal_code][\"longitude\"].values / 2\n",
    "fig, ax = plt.subplots(figsize=(7, 7))\n",
    "US.plot(ax=ax)\n",
    "ax.set_xlim([-125, -114])\n",
    "ax.set_ylim([31, 43])\n",
    "ax.scatter(ca_locations.longitude, ca_locations.latitude, s=sizes, color=\"r\")\n",
    "ax.set_title(f\"{len(ca_locations)/len(mainland_locations): .0%} of mainland addresses are in California\")\n",
    "ax.set_xticks([])\n",
    "ax.set_yticks([])\n",
    "plt.savefig(\"/Users/dklink/Desktop/CA_mailing_addresses.png\", dpi=200)"
   ]
  },
  {
   "cell_type": "code",
   "execution_count": null,
   "id": "16209fea",
   "metadata": {},
   "outputs": [],
   "source": [
    "bay_lon = [-122.8, -121.8]\n",
    "bay_lat = [37.2, 38.2]\n",
    "bay_locations = locations[(bay_lon[0] < locations.longitude) &\n",
    "                          (locations.longitude < bay_lon[1]) & \n",
    "                          (bay_lat[0] < locations.latitude) &\n",
    "                          (locations.latitude < bay_lat[1])]\n",
    "counts = ca_locations.groupby(\"postal_code\").count()\n",
    "sizes = counts.loc[ca_locations.postal_code][\"longitude\"].values / 2\n",
    "fig, ax = plt.subplots(figsize=(7, 7))\n",
    "US.plot(ax=ax)\n",
    "ax.set_xlim(bay_lon)\n",
    "ax.set_ylim(bay_lat)\n",
    "ax.scatter(ca_locations.longitude, ca_locations.latitude, s=sizes, color=\"r\")\n",
    "ax.set_title(f\"{len(bay_locations)/len(ca_locations): .0%} of California Addresses are in the Bay Area\")\n",
    "ax.set_xticks([])\n",
    "ax.set_yticks([])\n",
    "plt.savefig(\"/Users/dklink/Desktop/bay_mailing_addresses.png\", dpi=200)"
   ]
  },
  {
   "cell_type": "code",
   "execution_count": null,
   "id": "9864eab8",
   "metadata": {},
   "outputs": [],
   "source": []
  }
 ],
 "metadata": {
  "kernelspec": {
   "display_name": "Python 3 (ipykernel)",
   "language": "python",
   "name": "python3"
  },
  "language_info": {
   "codemirror_mode": {
    "name": "ipython",
    "version": 3
   },
   "file_extension": ".py",
   "mimetype": "text/x-python",
   "name": "python",
   "nbconvert_exporter": "python",
   "pygments_lexer": "ipython3",
   "version": "3.10.0"
  }
 },
 "nbformat": 4,
 "nbformat_minor": 5
}
